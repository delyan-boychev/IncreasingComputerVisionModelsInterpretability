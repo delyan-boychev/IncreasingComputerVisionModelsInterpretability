{
  "nbformat": 4,
  "nbformat_minor": 0,
  "metadata": {
    "colab": {
      "name": "CiFAR10 Basic Model.ipynb",
      "provenance": [],
      "collapsed_sections": []
    },
    "kernelspec": {
      "name": "python3",
      "display_name": "Python 3"
    },
    "language_info": {
      "name": "python"
    },
    "accelerator": "GPU",
    "gpuClass": "standard"
  },
  "cells": [
    {
      "cell_type": "code",
      "execution_count": null,
      "metadata": {
        "id": "HXH5xbghunzF"
      },
      "outputs": [],
      "source": [
        "!pip install timm\n",
        "!pip install shap\n",
        "import sys\n",
        "import shap\n",
        "import numpy as np\n",
        "import torch\n",
        "import timm\n",
        "import torch.nn as nn\n",
        "import torchvision\n",
        "import torchvision.transforms as transforms\n",
        "import matplotlib.pyplot as plt\n",
        "from google.colab import drive\n",
        "\n",
        "drive.mount('/content/gdrive')"
      ]
    },
    {
      "cell_type": "code",
      "source": [
        "\n",
        "transform_train = transforms.Compose(\n",
        "    [transforms.AutoAugment(transforms.AutoAugmentPolicy.CIFAR10), transforms.ToTensor(),])\n",
        "transform_test = transforms.ToTensor()\n",
        "\n",
        "batch_size = 20\n",
        "lr = 0.00001\n",
        "epochs = 100\n",
        "\n",
        "trainset = torchvision.datasets.CIFAR10(root='./data', train=True,\n",
        "                                        download=True, transform=transform_train)\n",
        "trainloader = torch.utils.data.DataLoader(trainset, batch_size=batch_size,\n",
        "                                          shuffle=True, num_workers=2)\n",
        "\n",
        "testset = torchvision.datasets.CIFAR10(root='./data', train=False,\n",
        "                                       download=True, transform=transform_test)\n",
        "testloader = torch.utils.data.DataLoader(testset, batch_size=batch_size,\n",
        "                                         shuffle=False, num_workers=2)\n",
        "batch, _ = next(iter(trainloader))\n",
        "images = batch[:2]\n",
        "print(images.shape)\n",
        "plt.imshow(images[0].permute(1, 2, 0))\n",
        "plt.imshow(images[1].permute(1, 2, 0))"
      ],
      "metadata": {
        "id": "rhGNrw74hu69"
      },
      "execution_count": null,
      "outputs": []
    },
    {
      "cell_type": "code",
      "source": [
        "\n",
        "\n",
        "transform_train = transforms.Compose(\n",
        "    [transforms.AutoAugment(transforms.AutoAugmentPolicy.CIFAR10), transforms.ToTensor(), transforms.GaussianBlur(3, 0.1)])\n",
        "transform_test = transforms.ToTensor()\n",
        "\n",
        "batch_size = 20\n",
        "lr = 0.000001\n",
        "epochs = 100\n",
        "\n",
        "trainset = torchvision.datasets.CIFAR10(root='./data', train=True,\n",
        "                                        download=True, transform=transform_train)\n",
        "trainloader = torch.utils.data.DataLoader(trainset, batch_size=batch_size,\n",
        "                                          shuffle=True, num_workers=2)\n",
        "\n",
        "testset = torchvision.datasets.CIFAR10(root='./data', train=False,\n",
        "                                       download=True, transform=transform_test)\n",
        "testloader = torch.utils.data.DataLoader(testset, batch_size=batch_size,\n",
        "                                         shuffle=False, num_workers=2)\n",
        "\n",
        "classes = ('plane', 'car', 'bird', 'cat',\n",
        "           'deer', 'dog', 'frog', 'horse', 'ship', 'truck')\n",
        "model = timm.create_model('ecaresnet26t', num_classes=10, pretrained=True)\n",
        "device = torch.device(\"cuda\" if torch.cuda.is_available() else \"cpu\")\n",
        "model.load_state_dict(torch.load(\"/content/gdrive/My Drive/BasicModel/modeltrain3.pt\"))\n",
        "model.to(device)\n",
        "print(f\"Device {device}\")\n",
        "def trainAccuracy():\n",
        "    \n",
        "    model.eval()\n",
        "    accuracy = 0.0\n",
        "    total = 0.0\n",
        "    \n",
        "    with torch.no_grad():\n",
        "        for data in trainloader:\n",
        "            images, labels = data\n",
        "            images = images.to(device)\n",
        "            labels = labels.to(device)\n",
        "            # run the model on the test set to predict labels\n",
        "            outputs = model(images)\n",
        "            # the label with the highest energy will be our prediction\n",
        "            _, predicted = torch.max(outputs.data, 1)\n",
        "            total += labels.size(0)\n",
        "            accuracy += (predicted == labels).sum().item()\n",
        "    \n",
        "    # compute the accuracy over all test images\n",
        "    accuracy = (100 * accuracy / total)\n",
        "    return(accuracy)\n",
        "def testAccuracy():\n",
        "    \n",
        "    model.eval()\n",
        "    accuracy = 0.0\n",
        "    total = 0.0\n",
        "    \n",
        "    with torch.no_grad():\n",
        "        for data in testloader:\n",
        "            images, labels = data\n",
        "            images = images.to(device)\n",
        "            labels = labels.to(device)\n",
        "            # run the model on the test set to predict labels\n",
        "            outputs = model(images)\n",
        "            # the label with the highest energy will be our prediction\n",
        "            _, predicted = torch.max(outputs.data, 1)\n",
        "            total += labels.size(0)\n",
        "            accuracy += (predicted == labels).sum().item()\n",
        "    \n",
        "    # compute the accuracy over all test images\n",
        "    accuracy = (100 * accuracy / total)\n",
        "    return(accuracy)\n",
        "\n",
        "\n",
        "criterion = nn.CrossEntropyLoss()\n",
        "optimizer = torch.optim.Adam(model.parameters(), lr=lr, weight_decay=5e-3)\n",
        "for epoch in range(epochs):  # loop over the dataset multiple times\n",
        "\n",
        "    running_loss = 0.0\n",
        "    for i, data in enumerate(trainloader, 0):\n",
        "        # get the inputs; data is a list of [inputs, labels]\n",
        "        inputs, labels = data\n",
        "        inputs = inputs.to(device)\n",
        "        labels = labels.to(device)\n",
        "        # zero the parameter gradients\n",
        "        optimizer.zero_grad()\n",
        "\n",
        "        # forward + backward + optimize\n",
        "        outputs = model(inputs)\n",
        "        loss = criterion(outputs, labels)\n",
        "        loss.backward()\n",
        "        optimizer.step()\n",
        "\n",
        "        # print statistics\n",
        "        running_loss += loss.item()\n",
        "        sys.stdout.write(f\"\\repoch:{epoch + 1}, mini batch:{i + 1} loss: {running_loss/(i+1):.7f}\")\n",
        "        sys.stdout.flush()\n",
        "    print()\n",
        "    print(f'[epoch:{epoch + 1}, mini batch:{i + 1}] loss: {running_loss / 2500:.5f} accuracy train: {trainAccuracy()} accuracy test: {testAccuracy()}')\n",
        "    running_loss = 0.0\n",
        "    torch.save(model.state_dict(), f\"/content/gdrive/My Drive/BasicModel/modeltrain{epoch+1}.pt\")\n",
        "print('Finished Training')"
      ],
      "metadata": {
        "id": "I4qudv41vXkZ"
      },
      "execution_count": null,
      "outputs": []
    },
    {
      "cell_type": "code",
      "source": [
        "model = timm.create_model('ecaresnet26t', num_classes=10, pretrained=True)\n",
        "model.load_state_dict(torch.load(\"/content/gdrive/My Drive/BasicModel/ecaresnet26t-CIFAR10.pt\"))\n",
        "model = model.to(\"cuda\")"
      ],
      "metadata": {
        "id": "5YT8Hl_hIveF"
      },
      "execution_count": null,
      "outputs": []
    },
    {
      "cell_type": "code",
      "source": [
        "batch = next(iter(testloader))\n",
        "images,labels = batch\n",
        "\n",
        "background = images[:17].to(\"cuda\")\n",
        "test_images = images[17:20]\n",
        "e = shap.DeepExplainer(model, background)\n",
        "shap_values = e.shap_values(test_images)\n",
        "shap_numpy = np.abs([np.swapaxes(np.swapaxes(s, 1, -1), 1, 2) for s in shap_values]).mean(0)\n",
        "test_numpy = (np.swapaxes(np.swapaxes(test_images.numpy(), 1, -1), 1, 2)  * 255).astype(np.uint8)\n",
        "shap.plots.image(shap_numpy, test_numpy)\n"
      ],
      "metadata": {
        "id": "hOQMGYtfjloT"
      },
      "execution_count": null,
      "outputs": []
    },
    {
      "cell_type": "code",
      "source": [
        "batch = next(iter(testloader))\n",
        "images,labels = batch\n",
        "\n",
        "background = images[:15].to(\"cuda\")\n",
        "test_images = images[15:20]\n",
        "e = shap.DeepExplainer(model, background)\n",
        "shap_values = e.shap_values(test_images)\n",
        "shap_numpy = np.abs([np.swapaxes(np.swapaxes(s, 1, -1), 1, 2) for s in shap_values]).mean(0)\n",
        "test_numpy = (np.swapaxes(np.swapaxes(test_images.numpy(), 1, -1), 1, 2)  * 255).astype(np.uint8)\n",
        "shap.plots.image(shap_numpy, test_numpy)\n"
      ],
      "metadata": {
        "id": "kmqN7TWajr5P"
      },
      "execution_count": null,
      "outputs": []
    },
    {
      "cell_type": "code",
      "source": [
        "batch = next(iter(testloader))\n",
        "images,labels = batch\n",
        "\n",
        "background = images[:10].to(\"cuda\")\n",
        "test_images = images[10:20]\n",
        "e = shap.DeepExplainer(model, background)\n",
        "shap_values = e.shap_values(test_images)\n",
        "shap_numpy = np.abs([np.swapaxes(np.swapaxes(s, 1, -1), 1, 2) for s in shap_values]).mean(0)\n",
        "test_numpy = (np.swapaxes(np.swapaxes(test_images.numpy(), 1, -1), 1, 2)  * 255).astype(np.uint8)\n",
        "shap.plots.image(shap_numpy, test_numpy)\n"
      ],
      "metadata": {
        "id": "Q3KgASoZq8qq"
      },
      "execution_count": null,
      "outputs": []
    }
  ]
}